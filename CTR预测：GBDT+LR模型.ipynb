{
 "cells": [
  {
   "cell_type": "markdown",
   "metadata": {},
   "source": [
    "## kaggle：ctr预测的比赛\n",
    "\n",
    "这个比赛的任务就是：开发预测广告点击率(CTR)的模型。给定一个用户和他正在访问的页面，预测他点击给定广告的概率是多少？\n"
   ]
  },
  {
   "cell_type": "markdown",
   "metadata": {},
   "source": [
    "1. 首先是要训练GBDT模型， GBDT的实现一般可以使用xgboost， 或者lightgbm。\n",
    "2. 训练完了GBDT模型之后， 我们需要预测出每个样本落在了哪棵树上的哪个节点上， 然后通过one-hot就会得到一些新的离散特征， 这和原来的特征进行合并组成新的数据集， 然后作为逻辑回归的输入；\n",
    "3. 最后通过逻辑回归模型得到结果"
   ]
  },
  {
   "cell_type": "code",
   "execution_count": 3,
   "metadata": {},
   "outputs": [],
   "source": [
    "import numpy as np\n",
    "import pandas as pd\n",
    "from sklearn.linear_model import LogisticRegression\n",
    "from sklearn.model_selection import train_test_split\n",
    "import lightgbm as lgb\n",
    "from sklearn.preprocessing import MinMaxScaler, OneHotEncoder, LabelEncoder\n",
    "from sklearn.metrics import log_loss\n",
    "import gc\n",
    "from scipy import sparse\n",
    "import warnings\n",
    "warnings.filterwarnings('ignore')"
   ]
  },
  {
   "cell_type": "markdown",
   "metadata": {},
   "source": [
    "criteo-Display Advertising Challenge比赛的部分数据集， 里面有train.csv和test.csv两个文件：\n",
    "* train.csv： 训练集由Criteo 7天内的部分流量组成。每一行对应一个由Criteo提供的显示广告。为了减少数据集的大小，正(点击)和负(未点击)的例子都以不同的比例进行了抽样。示例是按时间顺序排列的\n",
    "* test.csv: 测试集的计算方法与训练集相同，只是针对训练期之后一天的事件"
   ]
  },
  {
   "cell_type": "markdown",
   "metadata": {},
   "source": [
    "## 1. 读取数据 预处理"
   ]
  },
  {
   "cell_type": "code",
   "execution_count": null,
   "metadata": {},
   "outputs": [],
   "source": [
    "\"\"\"数据读取与预处理\"\"\"\n",
    "# 数据读取\n",
    "path = './data/'\n",
    "df_train = pd.read_csv(path + 'kaggle_train_ctr.csv')\n",
    "df_test = pd.read_csv(path + 'kaggle_test_ctr.csv')"
   ]
  },
  {
   "cell_type": "code",
   "execution_count": null,
   "metadata": {},
   "outputs": [],
   "source": [
    "# 简单的数据预处理\n",
    "# 去掉id列， 把测试集和训练集合并， 填充缺失值\n",
    "df_train.drop(['Id'], axis=1, inplace=True)\n",
    "df_test.drop(['Id'], axis=1, inplace=True)\n",
    "\n",
    "df_test['Label'] = -1\n",
    "\n",
    "data = pd.concat([df_train, df_test])\n",
    "data.fillna(-1, inplace=True)"
   ]
  },
  {
   "cell_type": "markdown",
   "metadata": {},
   "source": [
    " 字段说明：\n",
    " * Label： 目标变量， 0表示未点击， 1表示点击\n",
    " * l1-l13: 13列的数值特征， 大部分是计数特征\n",
    " * C1-C26: 26列分类特征， 为了达到匿名的目的， 这些特征的值离散成了32位的数据表示"
   ]
  },
  {
   "cell_type": "markdown",
   "metadata": {},
   "source": [
    "Purpose: generate features for GBDT.\n",
    "\n",
    "• All numerical data are included. (13 features)\n",
    "\n",
    "• Categorical features (after one-hot encoding) appear more\n",
    "than 4 million times are also included. (26 features)"
   ]
  },
  {
   "cell_type": "code",
   "execution_count": null,
   "metadata": {},
   "outputs": [],
   "source": [
    "\"\"\"下面把特征列分开处理\"\"\"\n",
    "continuous_fea = ['I'+str(i+1) for i in range(13)]\n",
    "category_fea = ['C'+str(i+1) for i in range(26)]"
   ]
  },
  {
   "cell_type": "markdown",
   "metadata": {},
   "source": [
    "## 1. 训练GBDT模型"
   ]
  },
  {
   "cell_type": "code",
   "execution_count": 4,
   "metadata": {},
   "outputs": [],
   "source": [
    "def gbdt_model(data, category_fea, continuous_fea):\n",
    "    \n",
    "    # 离散特征one-hot编码\n",
    "    for col in category_fea:\n",
    "        onehot_feats = pd.get_dummies(data[col], prefix=col)\n",
    "        data.drop([col], axis=1, inplace=True)\n",
    "        data = pd.concat([data, onehot_feats], axis=1)\n",
    "    \n",
    "    # 训练集和测试集分开\n",
    "    train = data[data['Label'] != -1]\n",
    "    target = train.pop('Label')\n",
    "    test = data[data['Label'] == -1]\n",
    "    test.drop(['Label'], axis=1, inplace=True)\n",
    "    \n",
    "    # 划分数据集\n",
    "    x_train, x_val, y_train, y_val = train_test_split(train, target, test_size=0.2, random_state=2020)\n",
    "    \n",
    "    # 建模\n",
    "    gbm = lgb.LGBMClassifier(boosting_type='gbdt',  # 这里用gbdt\n",
    "                             objective='binary', \n",
    "                             subsample=0.8,\n",
    "                             min_child_weight=0.5, \n",
    "                             colsample_bytree=0.7,\n",
    "                             num_leaves=100,\n",
    "                             max_depth=12,\n",
    "                             learning_rate=0.01,\n",
    "                             n_estimators=10000\n",
    "                            )\n",
    "    gbm.fit(x_train, y_train, \n",
    "            eval_set=[(x_train, y_train), (x_val, y_val)], \n",
    "            eval_names=['train', 'val'],\n",
    "            eval_metric='binary_logloss',\n",
    "            early_stopping_rounds=100,\n",
    "           )\n",
    "    \n",
    "    tr_logloss = log_loss(y_train, gbm.predict_proba(x_train)[:, 1])   # −(ylog(p)+(1−y)log(1−p)) log_loss\n",
    "    val_logloss = log_loss(y_val, gbm.predict_proba(x_val)[:, 1])\n",
    "    print('tr_logloss: ', tr_logloss)\n",
    "    print('val_logloss: ', val_logloss)\n",
    "    \n",
    "    # 模型预测\n",
    "    y_pred = gbm.predict_proba(test)[:, 1]  \n",
    "    # predict_proba 返回n行k列的矩阵，\n",
    "    #第i行第j列上的数值是模型预测第i个预测样本为某个标签的概率, 这里的1表示点击的概率\n",
    "    print('predict: ', y_pred[:10])  # 这里看前10个， 预测为点击的概率"
   ]
  },
  {
   "cell_type": "markdown",
   "metadata": {},
   "source": [
    "## 逻辑回归建模"
   ]
  },
  {
   "cell_type": "code",
   "execution_count": null,
   "metadata": {},
   "outputs": [],
   "source": [
    "def lr_model(data, category_fea, continuous_fea):\n",
    "    \n",
    "    # 连续特征归一化\n",
    "    scaler = MinMaxScaler()\n",
    "    for col in continuous_fea:\n",
    "        data[col] = scaler.fit_transform(data[col].values.reshape(-1, 1))\n",
    "    \n",
    "    # 离散特征one-hot编码\n",
    "    for col in category_fea:\n",
    "        onehot_feats = pd.get_dummies(data[col], prefix=col)\n",
    "        data.drop([col], axis=1, inplace=True)\n",
    "        data = pd.concat([data, onehot_feats], axis=1)\n",
    "    \n",
    "    # 把训练集和测试集分开\n",
    "    train = data[data['Label'] != -1]\n",
    "    target = train.pop('Label')\n",
    "    test = data[data['Label'] == -1]\n",
    "    test.drop(['Label'], axis=1, inplace=True)\n",
    "    \n",
    "    # 划分数据集\n",
    "    x_train, x_val, y_train, y_val = train_test_split(train, target, test_size=0.2, random_state=2020)\n",
    "    \n",
    "    # 建立模型\n",
    "    lr = LogisticRegression()\n",
    "    lr.fit(x_train, y_train)\n",
    "    tr_logloss = log_loss(y_train, lr.predict_proba(x_train)[:, 1])   # −(ylog(p)+(1−y)log(1−p)) log_loss\n",
    "    val_logloss = log_loss(y_val, lr.predict_proba(x_val)[:, 1])\n",
    "    print('tr_logloss: ', tr_logloss)\n",
    "    print('val_logloss: ', val_logloss)\n",
    "    \n",
    "    # 模型预测\n",
    "    y_pred = lr.predict_proba(test)[:, 1]  # predict_proba 返回n行k列的矩阵，第i行第j列上的数值是模型预测第i个预测样本为某个标签的概率, 这里的1表示点击的概率\n",
    "    print('predict: ', y_pred[:10]) # 这里看前10个， 预测为点击的概率"
   ]
  },
  {
   "cell_type": "markdown",
   "metadata": {},
   "source": [
    "##  LR + GBDT建模"
   ]
  },
  {
   "cell_type": "code",
   "execution_count": null,
   "metadata": {},
   "outputs": [],
   "source": [
    "# 下面就是把上面两个模型进行组合， \n",
    "#GBDT负责对各个特征进行交叉和组合， 把原始特征向量转换为新的离散型特征向量， 然后在使用逻辑回归模型\n",
    "\n",
    "def gbdt_lr_model(data, category_feature, continuous_feature):  # 0.43616\n",
    "    \n",
    "    # 离散特征one-hot编码\n",
    "    for col in category_feature:\n",
    "        onehot_feats = pd.get_dummies(data[col], prefix=col)\n",
    "        data.drop([col], axis=1, inplace=True)\n",
    "        data = pd.concat([data, onehot_feats], axis=1)\n",
    "\n",
    "    train = data[data['Label'] != -1]\n",
    "    target = train.pop('Label')\n",
    "    test = data[data['Label'] == -1]\n",
    "    test.drop(['Label'], axis=1, inplace=True)\n",
    "\n",
    "    # 划分数据集\n",
    "    x_train, x_val, y_train, y_val = train_test_split(train, target, test_size=0.2, random_state=2020)\n",
    "\n",
    "    gbm = lgb.LGBMClassifier(objective='binary',\n",
    "                            subsample=0.8,\n",
    "                            min_child_weight=0.5,\n",
    "                            colsample_bytree=0.7,\n",
    "                            num_leaves=100,\n",
    "                            max_depth=12,\n",
    "                            learning_rate=0.01,\n",
    "                            n_estimators=1000,\n",
    "                             )\n",
    "\n",
    "    gbm.fit(x_train, y_train,\n",
    "            eval_set=[(x_train, y_train), (x_val, y_val)],\n",
    "            eval_names=['train', 'val'],\n",
    "            eval_metric='binary_logloss',\n",
    "            early_stopping_rounds=100,\n",
    "            )\n",
    "    \n",
    "    model = gbm.booster_\n",
    "\n",
    "    gbdt_feats_train = model.predict(train, pred_leaf=True)\n",
    "    gbdt_feats_test = model.predict(test, pred_leaf=True)\n",
    "    gbdt_feats_name = ['gbdt_leaf_' + str(i) for i in range(gbdt_feats_train.shape[1])] #!!!!????????!!??\n",
    "    df_train_gbdt_feats = pd.DataFrame(gbdt_feats_train, columns=gbdt_feats_name)\n",
    "    df_test_gbdt_feats = pd.DataFrame(gbdt_feats_test, columns=gbdt_feats_name)\n",
    "\n",
    "    train = pd.concat([train, df_train_gbdt_feats], axis=1)\n",
    "    test = pd.concat([test, df_test_gbdt_feats], axis=1)\n",
    "    train_len = train.shape[0]\n",
    "    data = pd.concat([train, test])\n",
    "    del train\n",
    "    del test\n",
    "    gc.collect()\n",
    "\n",
    "    # 连续特征归一化\n",
    "    scaler = MinMaxScaler()\n",
    "    for col in continuous_feature:\n",
    "        data[col] = scaler.fit_transform(data[col].values.reshape(-1, 1))\n",
    "    # 新gbdt特征one-hot编码\n",
    "    for col in gbdt_feats_name:\n",
    "        onehot_feats = pd.get_dummies(data[col], prefix = col)\n",
    "        data.drop([col], axis = 1, inplace = True)\n",
    "        data = pd.concat([data, onehot_feats], axis = 1)\n",
    "\n",
    "    train = data[: train_len]\n",
    "    test = data[train_len:]\n",
    "    del data\n",
    "    gc.collect()\n",
    "\n",
    "    x_train, x_val, y_train, y_val = train_test_split(train, target, test_size = 0.3, random_state = 2018)\n",
    "\n",
    "    \n",
    "    lr = LogisticRegression()\n",
    "    lr.fit(x_train, y_train)\n",
    "    tr_logloss = log_loss(y_train, lr.predict_proba(x_train)[:, 1])\n",
    "    print('tr-logloss: ', tr_logloss)\n",
    "    val_logloss = log_loss(y_val, lr.predict_proba(x_val)[:, 1])\n",
    "    print('val-logloss: ', val_logloss)\n",
    "    y_pred = lr.predict_proba(test)[:, 1]\n",
    "    print(y_pred[:10])"
   ]
  },
  {
   "cell_type": "code",
   "execution_count": null,
   "metadata": {},
   "outputs": [],
   "source": [
    "# 训练和预测lr模型\n",
    "lr_model(data.copy(), category_fea, continuous_fea)\n",
    "\n",
    "# 模型训练和预测GBDT模型\n",
    "gbdt_model(data.copy(), category_fea, continuous_fea)\n",
    "\n",
    "# 训练和预测GBDT+LR模型\n",
    "gbdt_lr_model(data.copy(), category_fea, continuous_fea)"
   ]
  }
 ],
 "metadata": {
  "kernelspec": {
   "display_name": "Python 3",
   "language": "python",
   "name": "python3"
  },
  "language_info": {
   "codemirror_mode": {
    "name": "ipython",
    "version": 3
   },
   "file_extension": ".py",
   "mimetype": "text/x-python",
   "name": "python",
   "nbconvert_exporter": "python",
   "pygments_lexer": "ipython3",
   "version": "3.8.5"
  }
 },
 "nbformat": 4,
 "nbformat_minor": 4
}
