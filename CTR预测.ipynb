{
 "cells": [
  {
   "cell_type": "markdown",
   "metadata": {},
   "source": [
    "# CTR预测第一名"
   ]
  },
  {
   "cell_type": "markdown",
   "metadata": {},
   "source": [
    "1. Purpose: generate features for GBDT.\n",
    "- All numerical data are included. (13 features)\n",
    "- Categorical features (after one-hot encoding) appear morethan 4 million times are also included. (26 features\n",
    "\n",
    "2. Gradient Boosting Decision Tree (GBDT)\n",
    "- We use trees in GBDT to generate features.\n",
    "- 30 trees with depth 7 are used.\n",
    "- 30 features are generated for each impression\n",
    "\n",
    "- The first tree thinks x belong to node 4, the second node 7, and the third node 6. Then we generate the feature ”1:4 2:7 3:6” for this impression.\n",
    "\n",
    "3. reprocessing-B / Purpose: generate features for FFM.\n",
    "- Numerical features (I1-I13) greater than 2 are transformed by v ← [log(v)]^2.\n",
    "- Categorical features (C1-C26) appear less than 10 times are transformed into a sepcial value.\n",
    "- GBDT features are directly included.\n",
    "- These three groups of features are hashed into 1M-dimension by hashing trick.( hash value -> mod 10^6)\n",
    "- Each impression has 13 (numerical) + 26 (categorical) + 30(GBDT) = 69 features\n",
    "\n",
    "4. Field-aware Factorization Machine (FFM)\n",
    "\n",
    "\n",
    "5. Calibration / Purpose: calibrate the final result.\n",
    "- The average CTRs on the public / private leaderboards are 0.2632 and 0.2627, respectively.\n",
    "- The average CTR of our submission is 0.2663.\n",
    "- There is a gap. So we minus every prediction by 0.003, and the logloss is reduced by around 0.0001."
   ]
  }
 ],
 "metadata": {
  "kernelspec": {
   "display_name": "Python 3",
   "language": "python",
   "name": "python3"
  },
  "language_info": {
   "codemirror_mode": {
    "name": "ipython",
    "version": 3
   },
   "file_extension": ".py",
   "mimetype": "text/x-python",
   "name": "python",
   "nbconvert_exporter": "python",
   "pygments_lexer": "ipython3",
   "version": "3.8.5"
  }
 },
 "nbformat": 4,
 "nbformat_minor": 4
}
